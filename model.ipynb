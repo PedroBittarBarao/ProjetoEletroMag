{
 "cells": [
  {
   "cell_type": "code",
   "execution_count": null,
   "metadata": {},
   "outputs": [],
   "source": [
    "#Vamos importar os módulos que precisamos\n",
    "from math import *\n",
    "from cmath import *\n",
    "from numpy import linalg\n",
    "import numpy as np\n",
    "import matplotlib.pyplot as plt\n",
    "from lib import *"
   ]
  },
  {
   "cell_type": "code",
   "execution_count": null,
   "metadata": {},
   "outputs": [],
   "source": [
    "#implemente seu código aqui\n",
    "r1=0.5\n",
    "r2=0.5\n",
    "l1=300e-3\n",
    "l2=300e-3\n",
    "c1=1e-6\n",
    "c2=1e-6\n",
    "\n",
    "f=60\n",
    "k=0.5\n",
    "omega=2*pi*f\n",
    "m=k*sqrt(l1*l2)"
   ]
  },
  {
   "cell_type": "code",
   "execution_count": null,
   "metadata": {},
   "outputs": [],
   "source": [
    "# Primário\n",
    "\n",
    "xc1 = Xc(c1,omega)\n",
    "xl1 = Xl(l1,omega)\n",
    "xm = Xc(m,omega)\n",
    "\n",
    "z1 = r1 + xc1 + xl1 + xm\n",
    "\n",
    "# Secundário\n",
    "\n",
    "xc2 = Xc(c2,omega)\n",
    "xl2 = Xl(l2,omega)\n",
    "z2_1 = r2 + xl2 + xm\n",
    "z2_2 = xc2\n",
    "z2 = paralelo([z2_1,z2_2])\n"
   ]
  }
 ],
 "metadata": {
  "kernelspec": {
   "display_name": "Python 3.10.8 64-bit",
   "language": "python",
   "name": "python3"
  },
  "language_info": {
   "name": "python",
   "version": "3.10.8"
  },
  "orig_nbformat": 4,
  "vscode": {
   "interpreter": {
    "hash": "fb4569285eef3a3450cb62085a5b1e0da4bce0af555edc33dcf29baf3acc1368"
   }
  }
 },
 "nbformat": 4,
 "nbformat_minor": 2
}
